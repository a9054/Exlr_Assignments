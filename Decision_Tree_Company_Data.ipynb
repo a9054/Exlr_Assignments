{
 "cells": [
  {
   "cell_type": "code",
   "execution_count": 1,
   "id": "76e53b6c",
   "metadata": {},
   "outputs": [],
   "source": [
    "# Random Forest Classification         , \n",
    "from pandas import read_csv\n",
    "from sklearn.model_selection import KFold\n",
    "from sklearn.model_selection import cross_val_score\n",
    "from sklearn.ensemble import RandomForestClassifier\n",
    "import pandas as pd\n",
    "from sklearn.model_selection import train_test_split\n",
    "from sklearn.metrics import accuracy_score, confusion_matrix"
   ]
  },
  {
   "cell_type": "code",
   "execution_count": 3,
   "id": "133c4a6e",
   "metadata": {},
   "outputs": [],
   "source": [
    "df= read_csv(\"C:/Users/rohan/Downloads/Company_Data.csv\")"
   ]
  },
  {
   "cell_type": "code",
   "execution_count": 4,
   "id": "6482fb7b",
   "metadata": {},
   "outputs": [],
   "source": [
    "\n",
    "df = pd.get_dummies(df, columns =['ShelveLoc','Urban','US'])"
   ]
  },
  {
   "cell_type": "code",
   "execution_count": 5,
   "id": "f3380105",
   "metadata": {},
   "outputs": [],
   "source": [
    "df['sales']='small'\n",
    "df.loc[df['Sales'] > 7.5,'sales'] = \"large\"\n",
    "df.drop(['Sales'], axis=1,inplace = True)"
   ]
  },
  {
   "cell_type": "code",
   "execution_count": 6,
   "id": "45b3525e",
   "metadata": {},
   "outputs": [],
   "source": [
    "array = df.values"
   ]
  },
  {
   "cell_type": "code",
   "execution_count": 7,
   "id": "5412fd68",
   "metadata": {},
   "outputs": [
    {
     "data": {
      "text/plain": [
       "Index(['CompPrice', 'Income', 'Advertising', 'Population', 'Price', 'Age',\n",
       "       'Education', 'ShelveLoc_Bad', 'ShelveLoc_Good', 'ShelveLoc_Medium',\n",
       "       'Urban_No', 'Urban_Yes', 'US_No', 'US_Yes', 'sales'],\n",
       "      dtype='object')"
      ]
     },
     "execution_count": 7,
     "metadata": {},
     "output_type": "execute_result"
    }
   ],
   "source": [
    "df.columns"
   ]
  },
  {
   "cell_type": "code",
   "execution_count": 8,
   "id": "5e922d21",
   "metadata": {},
   "outputs": [],
   "source": [
    "x = array[:,0:14]\n",
    "y = array[:,14]"
   ]
  },
  {
   "cell_type": "code",
   "execution_count": 9,
   "id": "28202952",
   "metadata": {},
   "outputs": [],
   "source": [
    "x_train,x_test, y_train, y_test = train_test_split(x,y, test_size = 0.3)\n"
   ]
  },
  {
   "cell_type": "code",
   "execution_count": 10,
   "id": "13d721e8",
   "metadata": {},
   "outputs": [
    {
     "data": {
      "text/plain": [
       "array([[48, 17],\n",
       "       [ 9, 46]], dtype=int64)"
      ]
     },
     "execution_count": 10,
     "metadata": {},
     "output_type": "execute_result"
    }
   ],
   "source": [
    "# Applying RF\n",
    "num_trees = 100\n",
    "max_features = 3    #\n",
    "kfold = KFold(n_splits=10)\n",
    "model = RandomForestClassifier(n_estimators=num_trees, max_features=max_features) \n",
    "model.fit(x_train,y_train)\n",
    "pred = model.predict(x_test)\n",
    "\n",
    "confusion_matrix(y_test, pred)"
   ]
  },
  {
   "cell_type": "code",
   "execution_count": 11,
   "id": "fc962dd7",
   "metadata": {},
   "outputs": [
    {
     "name": "stdout",
     "output_type": "stream",
     "text": [
      "0.7875\n"
     ]
    },
    {
     "data": {
      "text/plain": [
       "array([0.8  , 0.85 , 0.625, 0.825, 0.75 , 0.875, 0.75 , 0.775, 0.75 ,\n",
       "       0.875])"
      ]
     },
     "execution_count": 11,
     "metadata": {},
     "output_type": "execute_result"
    }
   ],
   "source": [
    "results = cross_val_score(model, x,y, cv=kfold)\n",
    "print(results.mean())\n",
    "results"
   ]
  },
  {
   "cell_type": "code",
   "execution_count": 12,
   "id": "f80625ce",
   "metadata": {},
   "outputs": [
    {
     "data": {
      "text/plain": [
       "RandomForestClassifier(max_features=3)"
      ]
     },
     "execution_count": 12,
     "metadata": {},
     "output_type": "execute_result"
    }
   ],
   "source": [
    "model.fit(x_train, y_train)"
   ]
  },
  {
   "cell_type": "code",
   "execution_count": 14,
   "id": "63fee0e0",
   "metadata": {
    "scrolled": true
   },
   "outputs": [
    {
     "data": {
      "text/plain": [
       "array(['large', 'small', 'small', 'large', 'small', 'small', 'large',\n",
       "       'small', 'large', 'large', 'small', 'large', 'large', 'small',\n",
       "       'small', 'large', 'small', 'large', 'large', 'large', 'small',\n",
       "       'large', 'small', 'large', 'large', 'large', 'small', 'small',\n",
       "       'large', 'small', 'small', 'large', 'large', 'large', 'small',\n",
       "       'large', 'small', 'small', 'large', 'small', 'small', 'large',\n",
       "       'small', 'large', 'large', 'small', 'small', 'large', 'large',\n",
       "       'small', 'small', 'small', 'small', 'large', 'small', 'large',\n",
       "       'large', 'large', 'large', 'large', 'small', 'small', 'small',\n",
       "       'small', 'large', 'small', 'large', 'small', 'large', 'small',\n",
       "       'small', 'large', 'small', 'large', 'small', 'large', 'large',\n",
       "       'large', 'small', 'large', 'small', 'small', 'large', 'small',\n",
       "       'small', 'large', 'small', 'small', 'small', 'large', 'small',\n",
       "       'small', 'large', 'large', 'small', 'small', 'large', 'large',\n",
       "       'small', 'small', 'small', 'small', 'large', 'small', 'large',\n",
       "       'small', 'large', 'small', 'small', 'small', 'large', 'large',\n",
       "       'large', 'small', 'large', 'large', 'small', 'small', 'large',\n",
       "       'small'], dtype=object)"
      ]
     },
     "execution_count": 14,
     "metadata": {},
     "output_type": "execute_result"
    }
   ],
   "source": [
    "pred = model.predict(x_test)\n",
    "pred"
   ]
  },
  {
   "cell_type": "code",
   "execution_count": 15,
   "id": "06cac0cf",
   "metadata": {},
   "outputs": [
    {
     "data": {
      "text/html": [
       "<div>\n",
       "<style scoped>\n",
       "    .dataframe tbody tr th:only-of-type {\n",
       "        vertical-align: middle;\n",
       "    }\n",
       "\n",
       "    .dataframe tbody tr th {\n",
       "        vertical-align: top;\n",
       "    }\n",
       "\n",
       "    .dataframe thead th {\n",
       "        text-align: right;\n",
       "    }\n",
       "</style>\n",
       "<table border=\"1\" class=\"dataframe\">\n",
       "  <thead>\n",
       "    <tr style=\"text-align: right;\">\n",
       "      <th></th>\n",
       "      <th>actual</th>\n",
       "      <th>prection</th>\n",
       "    </tr>\n",
       "  </thead>\n",
       "  <tbody>\n",
       "    <tr>\n",
       "      <th>0</th>\n",
       "      <td>large</td>\n",
       "      <td>large</td>\n",
       "    </tr>\n",
       "    <tr>\n",
       "      <th>1</th>\n",
       "      <td>small</td>\n",
       "      <td>small</td>\n",
       "    </tr>\n",
       "    <tr>\n",
       "      <th>2</th>\n",
       "      <td>large</td>\n",
       "      <td>small</td>\n",
       "    </tr>\n",
       "    <tr>\n",
       "      <th>3</th>\n",
       "      <td>large</td>\n",
       "      <td>large</td>\n",
       "    </tr>\n",
       "    <tr>\n",
       "      <th>4</th>\n",
       "      <td>small</td>\n",
       "      <td>small</td>\n",
       "    </tr>\n",
       "    <tr>\n",
       "      <th>...</th>\n",
       "      <td>...</td>\n",
       "      <td>...</td>\n",
       "    </tr>\n",
       "    <tr>\n",
       "      <th>115</th>\n",
       "      <td>large</td>\n",
       "      <td>large</td>\n",
       "    </tr>\n",
       "    <tr>\n",
       "      <th>116</th>\n",
       "      <td>large</td>\n",
       "      <td>small</td>\n",
       "    </tr>\n",
       "    <tr>\n",
       "      <th>117</th>\n",
       "      <td>large</td>\n",
       "      <td>small</td>\n",
       "    </tr>\n",
       "    <tr>\n",
       "      <th>118</th>\n",
       "      <td>small</td>\n",
       "      <td>large</td>\n",
       "    </tr>\n",
       "    <tr>\n",
       "      <th>119</th>\n",
       "      <td>small</td>\n",
       "      <td>small</td>\n",
       "    </tr>\n",
       "  </tbody>\n",
       "</table>\n",
       "<p>120 rows × 2 columns</p>\n",
       "</div>"
      ],
      "text/plain": [
       "    actual prection\n",
       "0    large    large\n",
       "1    small    small\n",
       "2    large    small\n",
       "3    large    large\n",
       "4    small    small\n",
       "..     ...      ...\n",
       "115  large    large\n",
       "116  large    small\n",
       "117  large    small\n",
       "118  small    large\n",
       "119  small    small\n",
       "\n",
       "[120 rows x 2 columns]"
      ]
     },
     "execution_count": 15,
     "metadata": {},
     "output_type": "execute_result"
    }
   ],
   "source": [
    "data = pd.DataFrame({ \"actual\":y_test,\"prection\":pred})\n",
    "data"
   ]
  },
  {
   "cell_type": "code",
   "execution_count": 16,
   "id": "4236d8b9",
   "metadata": {},
   "outputs": [],
   "source": [
    "# Feature impotance\n",
    "df1 = df.columns"
   ]
  },
  {
   "cell_type": "code",
   "execution_count": 17,
   "id": "e3697b2e",
   "metadata": {},
   "outputs": [],
   "source": [
    "df1= df1.drop(['sales'])\n"
   ]
  },
  {
   "cell_type": "code",
   "execution_count": 18,
   "id": "7c535dd3",
   "metadata": {},
   "outputs": [],
   "source": [
    "feature = model.feature_importances_\n"
   ]
  },
  {
   "cell_type": "code",
   "execution_count": 19,
   "id": "f38ac76e",
   "metadata": {},
   "outputs": [
    {
     "data": {
      "text/html": [
       "<div>\n",
       "<style scoped>\n",
       "    .dataframe tbody tr th:only-of-type {\n",
       "        vertical-align: middle;\n",
       "    }\n",
       "\n",
       "    .dataframe tbody tr th {\n",
       "        vertical-align: top;\n",
       "    }\n",
       "\n",
       "    .dataframe thead th {\n",
       "        text-align: right;\n",
       "    }\n",
       "</style>\n",
       "<table border=\"1\" class=\"dataframe\">\n",
       "  <thead>\n",
       "    <tr style=\"text-align: right;\">\n",
       "      <th></th>\n",
       "      <th>columns</th>\n",
       "      <th>importance</th>\n",
       "    </tr>\n",
       "  </thead>\n",
       "  <tbody>\n",
       "    <tr>\n",
       "      <th>4</th>\n",
       "      <td>Price</td>\n",
       "      <td>0.232041</td>\n",
       "    </tr>\n",
       "    <tr>\n",
       "      <th>0</th>\n",
       "      <td>CompPrice</td>\n",
       "      <td>0.117112</td>\n",
       "    </tr>\n",
       "    <tr>\n",
       "      <th>5</th>\n",
       "      <td>Age</td>\n",
       "      <td>0.110800</td>\n",
       "    </tr>\n",
       "    <tr>\n",
       "      <th>2</th>\n",
       "      <td>Advertising</td>\n",
       "      <td>0.104945</td>\n",
       "    </tr>\n",
       "    <tr>\n",
       "      <th>1</th>\n",
       "      <td>Income</td>\n",
       "      <td>0.093164</td>\n",
       "    </tr>\n",
       "    <tr>\n",
       "      <th>8</th>\n",
       "      <td>ShelveLoc_Good</td>\n",
       "      <td>0.088132</td>\n",
       "    </tr>\n",
       "    <tr>\n",
       "      <th>3</th>\n",
       "      <td>Population</td>\n",
       "      <td>0.086714</td>\n",
       "    </tr>\n",
       "    <tr>\n",
       "      <th>6</th>\n",
       "      <td>Education</td>\n",
       "      <td>0.055019</td>\n",
       "    </tr>\n",
       "    <tr>\n",
       "      <th>7</th>\n",
       "      <td>ShelveLoc_Bad</td>\n",
       "      <td>0.042464</td>\n",
       "    </tr>\n",
       "    <tr>\n",
       "      <th>9</th>\n",
       "      <td>ShelveLoc_Medium</td>\n",
       "      <td>0.022760</td>\n",
       "    </tr>\n",
       "    <tr>\n",
       "      <th>12</th>\n",
       "      <td>US_No</td>\n",
       "      <td>0.013924</td>\n",
       "    </tr>\n",
       "    <tr>\n",
       "      <th>13</th>\n",
       "      <td>US_Yes</td>\n",
       "      <td>0.012547</td>\n",
       "    </tr>\n",
       "    <tr>\n",
       "      <th>11</th>\n",
       "      <td>Urban_Yes</td>\n",
       "      <td>0.011768</td>\n",
       "    </tr>\n",
       "    <tr>\n",
       "      <th>10</th>\n",
       "      <td>Urban_No</td>\n",
       "      <td>0.008611</td>\n",
       "    </tr>\n",
       "  </tbody>\n",
       "</table>\n",
       "</div>"
      ],
      "text/plain": [
       "             columns  importance\n",
       "4              Price    0.232041\n",
       "0          CompPrice    0.117112\n",
       "5                Age    0.110800\n",
       "2        Advertising    0.104945\n",
       "1             Income    0.093164\n",
       "8     ShelveLoc_Good    0.088132\n",
       "3         Population    0.086714\n",
       "6          Education    0.055019\n",
       "7      ShelveLoc_Bad    0.042464\n",
       "9   ShelveLoc_Medium    0.022760\n",
       "12             US_No    0.013924\n",
       "13            US_Yes    0.012547\n",
       "11         Urban_Yes    0.011768\n",
       "10          Urban_No    0.008611"
      ]
     },
     "execution_count": 19,
     "metadata": {},
     "output_type": "execute_result"
    }
   ],
   "source": [
    "data = pd.DataFrame({'columns':df1,\"importance\":feature})\n",
    "data.sort_values(\"importance\",ascending=False)"
   ]
  },
  {
   "cell_type": "code",
   "execution_count": null,
   "id": "3f6c5787",
   "metadata": {},
   "outputs": [],
   "source": []
  }
 ],
 "metadata": {
  "kernelspec": {
   "display_name": "Python 3 (ipykernel)",
   "language": "python",
   "name": "python3"
  },
  "language_info": {
   "codemirror_mode": {
    "name": "ipython",
    "version": 3
   },
   "file_extension": ".py",
   "mimetype": "text/x-python",
   "name": "python",
   "nbconvert_exporter": "python",
   "pygments_lexer": "ipython3",
   "version": "3.9.13"
  }
 },
 "nbformat": 4,
 "nbformat_minor": 5
}
