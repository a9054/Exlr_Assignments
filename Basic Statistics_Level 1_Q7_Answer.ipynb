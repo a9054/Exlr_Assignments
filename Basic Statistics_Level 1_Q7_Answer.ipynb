{
 "cells": [
  {
   "cell_type": "code",
   "execution_count": 18,
   "id": "6cc0ddeb",
   "metadata": {},
   "outputs": [],
   "source": [
    "import pandas as pd\n",
    "df = pd.read_csv(\"Downloads\\Q7.csv\")"
   ]
  },
  {
   "cell_type": "code",
   "execution_count": 19,
   "id": "4adde163",
   "metadata": {},
   "outputs": [
    {
     "name": "stdout",
     "output_type": "stream",
     "text": [
      "---------------------Mean(Points)--------------------------------\n",
      "\n",
      "3.6\n",
      "---------------------Mean(Score)--------------------------------\n",
      "\n",
      "3.22\n",
      "---------------------Mean(Weigh)--------------------------------\n",
      "\n",
      "17.85\n",
      "---------------------Median(Points)--------------------------------\n",
      "\n",
      "3.7\n",
      "---------------------Median(Score)--------------------------------\n",
      "\n",
      "3.33\n",
      "---------------------Median(Weigh)--------------------------------\n",
      "\n",
      "17.71\n",
      "---------------------Mode(Points)--------------------------------\n",
      "\n",
      "0    3.07\n",
      "1    3.92\n",
      "Name: Points, dtype: float64\n",
      "---------------------Mode(Score)--------------------------------\n",
      "\n",
      "0    3.44\n",
      "Name: Score, dtype: float64\n",
      "---------------------Mode(Weigh)--------------------------------\n",
      "\n",
      "0    17.02\n",
      "1    18.90\n",
      "Name: Weigh, dtype: float64\n",
      "---------------------Variance(Points)--------------------------------\n",
      "\n",
      "0.29\n",
      "---------------------Variance(Score)--------------------------------\n",
      "\n",
      "0.96\n",
      "---------------------Variance(Weigh)--------------------------------\n",
      "\n",
      "3.19\n",
      "---------------------Standard Deviation(Points)--------------------------------\n",
      "\n",
      "0.53\n",
      "---------------------Variance(Score)--------------------------------\n",
      "\n",
      "0.98\n",
      "---------------------Variance(Weigh)--------------------------------\n",
      "\n",
      "1.79\n"
     ]
    }
   ],
   "source": [
    "print('---------------------Mean(Points)--------------------------------\\n')\n",
    "print(round(df['Points'].mean(),2))\n",
    "\n",
    "print('---------------------Mean(Score)--------------------------------\\n')\n",
    "print(round(df['Score'].mean(),2))\n",
    "\n",
    "print('---------------------Mean(Weigh)--------------------------------\\n')\n",
    "print(round(df['Weigh'].mean(),2))\n",
    "\n",
    "print('---------------------Median(Points)--------------------------------\\n')\n",
    "print(round(df['Points'].median(),2))\n",
    "\n",
    "print('---------------------Median(Score)--------------------------------\\n')\n",
    "print(round(df['Score'].median(),2))\n",
    "\n",
    "print('---------------------Median(Weigh)--------------------------------\\n')\n",
    "print(round(df['Weigh'].median(),2))\n",
    "\n",
    "print('---------------------Mode(Points)--------------------------------\\n')\n",
    "print(round(df['Points'].mode(),2))\n",
    "\n",
    "print('---------------------Mode(Score)--------------------------------\\n')\n",
    "print(round(df['Score'].mode(),2))\n",
    "\n",
    "print('---------------------Mode(Weigh)--------------------------------\\n')\n",
    "print(round(df['Weigh'].mode(),2))\n",
    "\n",
    "print('---------------------Variance(Points)--------------------------------\\n')\n",
    "print(round(df['Points'].var(),2))\n",
    "\n",
    "print('---------------------Variance(Score)--------------------------------\\n')\n",
    "print(round(df['Score'].var(),2))\n",
    "\n",
    "print('---------------------Variance(Weigh)--------------------------------\\n')\n",
    "print(round(df['Weigh'].var(),2))\n",
    "\n",
    "print('---------------------Standard Deviation(Points)--------------------------------\\n')\n",
    "print(round(df['Points'].std(),2))\n",
    "\n",
    "print('---------------------Variance(Score)--------------------------------\\n')\n",
    "print(round(df['Score'].std(),2))\n",
    "\n",
    "print('---------------------Variance(Weigh)--------------------------------\\n')\n",
    "print(round(df['Weigh'].std(),2))\n",
    "\n"
   ]
  },
  {
   "cell_type": "code",
   "execution_count": 22,
   "id": "b8dcef94",
   "metadata": {},
   "outputs": [
    {
     "name": "stdout",
     "output_type": "stream",
     "text": [
      "---------------------Range(Points)--------------------------------\n",
      "\n"
     ]
    },
    {
     "data": {
      "text/plain": [
       "0     False\n",
       "1     False\n",
       "2     False\n",
       "3      True\n",
       "4      True\n",
       "5      True\n",
       "6      True\n",
       "7     False\n",
       "8     False\n",
       "9     False\n",
       "10    False\n",
       "11     True\n",
       "12     True\n",
       "13     True\n",
       "14     True\n",
       "15     True\n",
       "16     True\n",
       "17    False\n",
       "18    False\n",
       "19    False\n",
       "20    False\n",
       "21     True\n",
       "22     True\n",
       "23    False\n",
       "24     True\n",
       "25    False\n",
       "26    False\n",
       "27    False\n",
       "28    False\n",
       "29    False\n",
       "30    False\n",
       "31    False\n",
       "Name: Points, dtype: bool"
      ]
     },
     "execution_count": 22,
     "metadata": {},
     "output_type": "execute_result"
    }
   ],
   "source": [
    "print('---------------------Range(Points)--------------------------------\\n')\n",
    "(df['Points']>1.5) & (df['Points'] < 3.5)"
   ]
  },
  {
   "cell_type": "code",
   "execution_count": null,
   "id": "d23cef74",
   "metadata": {},
   "outputs": [],
   "source": []
  }
 ],
 "metadata": {
  "kernelspec": {
   "display_name": "Python 3 (ipykernel)",
   "language": "python",
   "name": "python3"
  },
  "language_info": {
   "codemirror_mode": {
    "name": "ipython",
    "version": 3
   },
   "file_extension": ".py",
   "mimetype": "text/x-python",
   "name": "python",
   "nbconvert_exporter": "python",
   "pygments_lexer": "ipython3",
   "version": "3.9.13"
  }
 },
 "nbformat": 4,
 "nbformat_minor": 5
}
